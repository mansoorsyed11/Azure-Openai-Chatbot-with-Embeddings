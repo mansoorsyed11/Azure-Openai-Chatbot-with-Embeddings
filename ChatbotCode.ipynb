{
 "cells": [
  {
   "cell_type": "code",
   "execution_count": null,
   "id": "0662d6d4",
   "metadata": {},
   "outputs": [],
   "source": [
    "import os\n",
    "import openai\n",
    "from dotenv import load_dotenv\n",
    "from langchain.chat_models import AzureChatOpenAI\n",
    "from langchain.embeddings import OpenAIEmbeddings\n",
    "from langchain.vectorstores import AzureSearch\n",
    "from langchain.document_loaders import DirectoryLoader\n",
    "from langchain.document_loaders import TextLoader\n",
    "from langchain.text_splitter import TokenTextSplitter\n",
    "from langchain.chains import ConversationalRetrievalChain\n",
    "from langchain.prompts import PromptTemplate"
   ]
  },
  {
   "cell_type": "code",
   "execution_count": null,
   "id": "90427276",
   "metadata": {},
   "outputs": [],
   "source": [
    "load_dotenv()\n",
    "os.environ[\"OPENAI_API_TYPE\"] = \"OPENAI_API_TYPE\"\n",
    "os.environ[\"OPENAI_API_BASE\"] = \"OPENAI_API_BASE\"\n",
    "os.environ[\"OPENAI_API_KEY\"] = \"OPENAI_API_KEY\" \n",
    "os.environ[\"OPENAI_API_VERSION\"] = \"2023-05-15\"\n",
    "model = \"text-embedding\""
   ]
  },
  {
   "cell_type": "code",
   "execution_count": null,
   "id": "dbda660a",
   "metadata": {},
   "outputs": [],
   "source": [
    "import os\n",
    "os.environ[\"AZURE_COGNITIVE_SEARCH_SERVICE_NAME\"] =  \"AZURE_COGNITIVE_SEARCH_SERVICE_NAME\"\n",
    "os.environ[\"AZURE_COGNITIVE_SEARCH_INDEX_NAME\"] = \"AZURE_COGNITIVE_SEARCH_INDEX_NAME\"\n",
    "os.environ[\"AZURE_COGNITIVE_SEARCH_API_KEY\"] = \"AZURE_COGNITIVE_SEARCH_API_KEY\""
   ]
  },
  {
   "cell_type": "code",
   "execution_count": null,
   "id": "fe27ac3b",
   "metadata": {},
   "outputs": [],
   "source": [
    "# Initialize gpt-35-turbo and our embedding model\n",
    "llm = AzureChatOpenAI(deployment_name=\"gpt-35-4k\")\n",
    "embeddings = OpenAIEmbeddings(deployment='text-embedding')"
   ]
  },
  {
   "cell_type": "code",
   "execution_count": null,
   "id": "80a20ed1",
   "metadata": {},
   "outputs": [],
   "source": [
    "vector_store_address: str = \"\"\n",
    "vector_store_password: str = \"\""
   ]
  },
  {
   "cell_type": "code",
   "execution_count": null,
   "id": "7a7a843f",
   "metadata": {},
   "outputs": [],
   "source": [
    "embeddings: OpenAIEmbeddings = OpenAIEmbeddings(deployment=model, chunk_size=1)\n",
    "index_name = \"giveindexname\"\n",
    "vector_store: AzureSearch = AzureSearch(\n",
    "    azure_search_endpoint=vector_store_address,\n",
    "    azure_search_key=vector_store_password,\n",
    "    index_name=index_name,\n",
    "    embedding_function=embeddings.embed_query,\n",
    ")"
   ]
  },
  {
   "cell_type": "code",
   "execution_count": null,
   "id": "12adacc9",
   "metadata": {},
   "outputs": [],
   "source": [
    "from langchain.document_loaders import PyPDFLoader\n",
    "\n",
    "loader = PyPDFLoader(\"SampleData.pdf\")\n",
    "documents = loader.load_and_split()\n",
    "text_splitter = TokenTextSplitter(chunk_size=1000, chunk_overlap=10)\n",
    "docs = text_splitter.split_documents(documents)\n",
    "\n",
    "# Add documents to Azure Search\n",
    "vector_store.add_documents(documents=docs)"
   ]
  },
  {
   "cell_type": "code",
   "execution_count": null,
   "id": "f31ab55e",
   "metadata": {},
   "outputs": [],
   "source": [
    "# Adapt if needed\n",
    "CONDENSE_QUESTION_PROMPT = PromptTemplate.from_template(\n",
    "\"\"\"Given the following conversation and a follow up question, rephrase the follow up question to be a standalone question.\n",
    "\n",
    "Chat History:\n",
    "{chat_history}\n",
    "Follow Up Input: {question}\n",
    "Standalone question:\"\"\")\n",
    "\n",
    "qa = ConversationalRetrievalChain.from_llm(llm=llm,\n",
    "                                           retriever=vector_store.as_retriever(),\n",
    "                                           return_source_documents=True,\n",
    "                                           verbose=False,max_tokens_limit=4000)"
   ]
  },
  {
   "cell_type": "code",
   "execution_count": null,
   "id": "1799b328",
   "metadata": {},
   "outputs": [],
   "source": [
    "chat_history = []\n",
    "query = \"envestnet recent revenue\"\n",
    "result = qa({\"question\": query, \"chat_history\": chat_history})\n",
    "\n",
    "print(\"Question:\", query)\n",
    "print(\"Answer:\", result[\"answer\"])"
   ]
  }
 ],
 "metadata": {
  "kernelspec": {
   "display_name": "Python 3 (ipykernel)",
   "language": "python",
   "name": "python3"
  },
  "language_info": {
   "codemirror_mode": {
    "name": "ipython",
    "version": 3
   },
   "file_extension": ".py",
   "mimetype": "text/x-python",
   "name": "python",
   "nbconvert_exporter": "python",
   "pygments_lexer": "ipython3",
   "version": "3.9.12"
  }
 },
 "nbformat": 4,
 "nbformat_minor": 5
}
